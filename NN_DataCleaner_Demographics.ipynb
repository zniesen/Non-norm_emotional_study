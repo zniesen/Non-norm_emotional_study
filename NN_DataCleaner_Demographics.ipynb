{
  "cells": [
    {
      "cell_type": "code",
      "execution_count": null,
      "metadata": {
        "id": "qzhHzeWbRvEk"
      },
      "outputs": [],
      "source": [
        "import numpy as np\n",
        "import pandas as pd\n",
        "from google.colab import files"
      ]
    },
    {
      "cell_type": "code",
      "execution_count": null,
      "metadata": {
        "id": "o_DO1C2TS8Ao"
      },
      "outputs": [],
      "source": [
        "files.upload()"
      ]
    },
    {
      "cell_type": "code",
      "execution_count": null,
      "metadata": {
        "id": "LgPymbyxTomk"
      },
      "outputs": [],
      "source": [
        "demosdf = pd.read_excel('1.1_demographics_raw_Spring2024.xlsx')\n",
        "filtered_demos = demosdf[['subject', 'trialcode', 'response']].copy()\n",
        "filtered_demos = filtered_demos.sort_values(by=['subject', 'trialcode'])\n",
        "demos_pivot = filtered_demos.pivot(index = 'subject', columns='trialcode', values='response')\n",
        "demos_pivot"
      ]
    },
    {
      "cell_type": "code",
      "source": [
        "# Getting Demographic Information\n",
        "for column in demos_pivot.columns:\n",
        "    if demos_pivot[column].dtype == 'object':\n",
        "        value_counts = demos_pivot[column].value_counts()\n",
        "        print(value_counts)\n",
        "        print()"
      ],
      "metadata": {
        "id": "YCWm7LpzC9gK"
      },
      "execution_count": null,
      "outputs": []
    },
    {
      "cell_type": "code",
      "execution_count": null,
      "metadata": {
        "id": "VXk7xN8xrkML"
      },
      "outputs": [],
      "source": [
        "spi = pd.read_excel('1.1_outgoingscale_cleaned_Spring2024.xlsx')\n",
        "spi_df = spi[['subject', 'sum']].copy()\n",
        "spi_df = spi_df.rename(columns={'subject': 'subject', 'sum': 'spi'})\n",
        "spi_df"
      ]
    },
    {
      "cell_type": "markdown",
      "source": [],
      "metadata": {
        "id": "a1a8xjGsNLln"
      }
    },
    {
      "cell_type": "code",
      "source": [
        "rse = pd.read_excel('1.1_rse_summary_Spring2024.xlsx')\n",
        "rse_df = rse[['subjectid', 'rosenbergscore']].copy()\n",
        "rse_df = rse_df.rename(columns={'subjectid': 'subject', 'rosenbergscore': 'rse'})\n",
        "rse_df"
      ],
      "metadata": {
        "id": "Wx2Ba0DpOB_-"
      },
      "execution_count": null,
      "outputs": []
    },
    {
      "cell_type": "code",
      "source": [
        "merged_df = pd.merge(demos_pivot, spi_df, on='subject', how='inner')\n",
        "final_df = pd.merge(merged_df, rse_df, on='subject', how='inner')\n",
        "final_df"
      ],
      "metadata": {
        "id": "6bJFJZrUP-0h"
      },
      "execution_count": null,
      "outputs": []
    },
    {
      "cell_type": "code",
      "execution_count": null,
      "metadata": {
        "colab": {
          "base_uri": "https://localhost:8080/",
          "height": 17
        },
        "id": "Nt9wJvd4iudo",
        "outputId": "fc2ecfb0-a5d5-4c71-d8fe-7168656ade2f"
      },
      "outputs": [
        {
          "output_type": "display_data",
          "data": {
            "text/plain": [
              "<IPython.core.display.Javascript object>"
            ],
            "application/javascript": [
              "\n",
              "    async function download(id, filename, size) {\n",
              "      if (!google.colab.kernel.accessAllowed) {\n",
              "        return;\n",
              "      }\n",
              "      const div = document.createElement('div');\n",
              "      const label = document.createElement('label');\n",
              "      label.textContent = `Downloading \"${filename}\": `;\n",
              "      div.appendChild(label);\n",
              "      const progress = document.createElement('progress');\n",
              "      progress.max = size;\n",
              "      div.appendChild(progress);\n",
              "      document.body.appendChild(div);\n",
              "\n",
              "      const buffers = [];\n",
              "      let downloaded = 0;\n",
              "\n",
              "      const channel = await google.colab.kernel.comms.open(id);\n",
              "      // Send a message to notify the kernel that we're ready.\n",
              "      channel.send({})\n",
              "\n",
              "      for await (const message of channel.messages) {\n",
              "        // Send a message to notify the kernel that we're ready.\n",
              "        channel.send({})\n",
              "        if (message.buffers) {\n",
              "          for (const buffer of message.buffers) {\n",
              "            buffers.push(buffer);\n",
              "            downloaded += buffer.byteLength;\n",
              "            progress.value = downloaded;\n",
              "          }\n",
              "        }\n",
              "      }\n",
              "      const blob = new Blob(buffers, {type: 'application/binary'});\n",
              "      const a = document.createElement('a');\n",
              "      a.href = window.URL.createObjectURL(blob);\n",
              "      a.download = filename;\n",
              "      div.appendChild(a);\n",
              "      a.click();\n",
              "      div.remove();\n",
              "    }\n",
              "  "
            ]
          },
          "metadata": {}
        },
        {
          "output_type": "display_data",
          "data": {
            "text/plain": [
              "<IPython.core.display.Javascript object>"
            ],
            "application/javascript": [
              "download(\"download_cd95e9a1-b7f6-473d-833a-c144d792b87d\", \"cleanInquisitData.xlsx\", 5745)"
            ]
          },
          "metadata": {}
        }
      ],
      "source": [
        "final_df.to_excel('cleanInquisitData.xlsx')\n",
        "files.download('cleanInquisitData.xlsx')"
      ]
    }
  ],
  "metadata": {
    "colab": {
      "provenance": [],
      "authorship_tag": "ABX9TyPC1hV+ll62V+Zlxs/nUFIn"
    },
    "kernelspec": {
      "display_name": "Python 3",
      "name": "python3"
    },
    "language_info": {
      "name": "python"
    }
  },
  "nbformat": 4,
  "nbformat_minor": 0
}